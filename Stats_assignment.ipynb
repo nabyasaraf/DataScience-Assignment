{
 "cells": [
  {
   "cell_type": "code",
   "execution_count": 5,
   "metadata": {},
   "outputs": [],
   "source": [
    "import numpy as np\n",
    "import pandas as pd"
   ]
  },
  {
   "cell_type": "code",
   "execution_count": 8,
   "metadata": {},
   "outputs": [],
   "source": [
    "df=pd.read_csv('Stats_q3_data.csv')"
   ]
  },
  {
   "cell_type": "code",
   "execution_count": 12,
   "metadata": {},
   "outputs": [
    {
     "data": {
      "text/html": [
       "<div>\n",
       "<style scoped>\n",
       "    .dataframe tbody tr th:only-of-type {\n",
       "        vertical-align: middle;\n",
       "    }\n",
       "\n",
       "    .dataframe tbody tr th {\n",
       "        vertical-align: top;\n",
       "    }\n",
       "\n",
       "    .dataframe thead th {\n",
       "        text-align: right;\n",
       "    }\n",
       "</style>\n",
       "<table border=\"1\" class=\"dataframe\">\n",
       "  <thead>\n",
       "    <tr style=\"text-align: right;\">\n",
       "      <th></th>\n",
       "      <th>Patient ID</th>\n",
       "      <th>Blood Pressure Before (mmHg)</th>\n",
       "      <th>Blood Pressure After (mmHg)</th>\n",
       "    </tr>\n",
       "  </thead>\n",
       "  <tbody>\n",
       "    <tr>\n",
       "      <th>0</th>\n",
       "      <td>1</td>\n",
       "      <td>130</td>\n",
       "      <td>120</td>\n",
       "    </tr>\n",
       "    <tr>\n",
       "      <th>1</th>\n",
       "      <td>2</td>\n",
       "      <td>142</td>\n",
       "      <td>135</td>\n",
       "    </tr>\n",
       "    <tr>\n",
       "      <th>2</th>\n",
       "      <td>3</td>\n",
       "      <td>120</td>\n",
       "      <td>118</td>\n",
       "    </tr>\n",
       "    <tr>\n",
       "      <th>3</th>\n",
       "      <td>4</td>\n",
       "      <td>135</td>\n",
       "      <td>127</td>\n",
       "    </tr>\n",
       "    <tr>\n",
       "      <th>4</th>\n",
       "      <td>5</td>\n",
       "      <td>148</td>\n",
       "      <td>140</td>\n",
       "    </tr>\n",
       "  </tbody>\n",
       "</table>\n",
       "</div>"
      ],
      "text/plain": [
       "   Patient ID   Blood Pressure Before (mmHg)   Blood Pressure After (mmHg)\n",
       "0           1                            130                           120\n",
       "1           2                            142                           135\n",
       "2           3                            120                           118\n",
       "3           4                            135                           127\n",
       "4           5                            148                           140"
      ]
     },
     "execution_count": 12,
     "metadata": {},
     "output_type": "execute_result"
    }
   ],
   "source": [
    "df.head()"
   ]
  },
  {
   "cell_type": "code",
   "execution_count": 21,
   "metadata": {},
   "outputs": [],
   "source": [
    "df.rename(columns={col: None for col in df.columns}, inplace=True)"
   ]
  },
  {
   "cell_type": "code",
   "execution_count": 29,
   "metadata": {},
   "outputs": [],
   "source": [
    "df.columns = ['ID', 'Before_pressure', 'After_pressure']"
   ]
  },
  {
   "cell_type": "code",
   "execution_count": 30,
   "metadata": {},
   "outputs": [
    {
     "data": {
      "text/html": [
       "<div>\n",
       "<style scoped>\n",
       "    .dataframe tbody tr th:only-of-type {\n",
       "        vertical-align: middle;\n",
       "    }\n",
       "\n",
       "    .dataframe tbody tr th {\n",
       "        vertical-align: top;\n",
       "    }\n",
       "\n",
       "    .dataframe thead th {\n",
       "        text-align: right;\n",
       "    }\n",
       "</style>\n",
       "<table border=\"1\" class=\"dataframe\">\n",
       "  <thead>\n",
       "    <tr style=\"text-align: right;\">\n",
       "      <th></th>\n",
       "      <th>ID</th>\n",
       "      <th>Before_pressure</th>\n",
       "      <th>After_pressure</th>\n",
       "    </tr>\n",
       "  </thead>\n",
       "  <tbody>\n",
       "    <tr>\n",
       "      <th>0</th>\n",
       "      <td>1</td>\n",
       "      <td>130</td>\n",
       "      <td>120</td>\n",
       "    </tr>\n",
       "    <tr>\n",
       "      <th>1</th>\n",
       "      <td>2</td>\n",
       "      <td>142</td>\n",
       "      <td>135</td>\n",
       "    </tr>\n",
       "    <tr>\n",
       "      <th>2</th>\n",
       "      <td>3</td>\n",
       "      <td>120</td>\n",
       "      <td>118</td>\n",
       "    </tr>\n",
       "    <tr>\n",
       "      <th>3</th>\n",
       "      <td>4</td>\n",
       "      <td>135</td>\n",
       "      <td>127</td>\n",
       "    </tr>\n",
       "    <tr>\n",
       "      <th>4</th>\n",
       "      <td>5</td>\n",
       "      <td>148</td>\n",
       "      <td>140</td>\n",
       "    </tr>\n",
       "  </tbody>\n",
       "</table>\n",
       "</div>"
      ],
      "text/plain": [
       "   ID  Before_pressure  After_pressure\n",
       "0   1              130             120\n",
       "1   2              142             135\n",
       "2   3              120             118\n",
       "3   4              135             127\n",
       "4   5              148             140"
      ]
     },
     "execution_count": 30,
     "metadata": {},
     "output_type": "execute_result"
    }
   ],
   "source": [
    "df.head()"
   ]
  },
  {
   "cell_type": "code",
   "execution_count": 32,
   "metadata": {},
   "outputs": [],
   "source": [
    "\n",
    "\n",
    "\n",
    "# Range\n",
    "range_before = np.max(df['Before_pressure']) - np.min(df['Before_pressure'])\n",
    "range_after = np.max(df['After_pressure']) - np.min(df['After_pressure'])\n"
   ]
  },
  {
   "cell_type": "code",
   "execution_count": 34,
   "metadata": {},
   "outputs": [
    {
     "name": "stdout",
     "output_type": "stream",
     "text": [
      "Dispersion in Blood Pressure Before:\n",
      "Range: 28\n",
      "Variance: 43.10189999999999\n",
      "Standard Deviation: 6.56520372875054\n",
      "\n",
      "Dispersion in Blood Pressure After:\n",
      "Range: 23\n",
      "Variance: 46.97039999999999\n",
      "Standard Deviation: 6.853495458523336\n"
     ]
    }
   ],
   "source": [
    "# Variance\n",
    "variance_before = np.var(df['Before_pressure'])\n",
    "variance_after = np.var(df['After_pressure'])\n",
    "\n",
    "# Standard Deviation\n",
    "std_dev_before = np.std(df['Before_pressure'])\n",
    "std_dev_after = np.std(df['After_pressure'])\n",
    "\n",
    "print(\"Dispersion in Blood Pressure Before:\")\n",
    "print(\"Range:\", range_before)\n",
    "print(\"Variance:\", variance_before)\n",
    "print(\"Standard Deviation:\", std_dev_before)\n",
    "print()\n",
    "\n",
    "print(\"Dispersion in Blood Pressure After:\")\n",
    "print(\"Range:\", range_after)\n",
    "print(\"Variance:\", variance_after)\n",
    "print(\"Standard Deviation:\", std_dev_after)"
   ]
  },
  {
   "cell_type": "code",
   "execution_count": 36,
   "metadata": {},
   "outputs": [
    {
     "name": "stdout",
     "output_type": "stream",
     "text": [
      "Collecting matplotlib\n",
      "  Downloading matplotlib-3.7.1-cp311-cp311-win_amd64.whl (7.6 MB)\n",
      "     ---------------------------------------- 7.6/7.6 MB 9.9 MB/s eta 0:00:00\n",
      "Collecting contourpy>=1.0.1\n",
      "  Downloading contourpy-1.0.7-cp311-cp311-win_amd64.whl (162 kB)\n",
      "     ------------------------------------- 163.0/163.0 kB 10.2 MB/s eta 0:00:00\n",
      "Collecting cycler>=0.10\n",
      "  Using cached cycler-0.11.0-py3-none-any.whl (6.4 kB)\n",
      "Collecting fonttools>=4.22.0\n",
      "  Using cached fonttools-4.39.4-py3-none-any.whl (1.0 MB)\n",
      "Collecting kiwisolver>=1.0.1\n",
      "  Downloading kiwisolver-1.4.4-cp311-cp311-win_amd64.whl (55 kB)\n",
      "     ---------------------------------------- 55.4/55.4 kB 2.8 MB/s eta 0:00:00\n",
      "Requirement already satisfied: numpy>=1.20 in c:\\users\\asus\\appdata\\local\\programs\\python\\python311\\lib\\site-packages (from matplotlib) (1.24.3)\n",
      "Requirement already satisfied: packaging>=20.0 in c:\\users\\asus\\appdata\\roaming\\python\\python311\\site-packages (from matplotlib) (23.1)\n",
      "Collecting pillow>=6.2.0\n",
      "  Downloading Pillow-9.5.0-cp311-cp311-win_amd64.whl (2.5 MB)\n",
      "     ---------------------------------------- 2.5/2.5 MB 10.6 MB/s eta 0:00:00\n",
      "Collecting pyparsing>=2.3.1\n",
      "  Using cached pyparsing-3.0.9-py3-none-any.whl (98 kB)\n",
      "Requirement already satisfied: python-dateutil>=2.7 in c:\\users\\asus\\appdata\\roaming\\python\\python311\\site-packages (from matplotlib) (2.8.2)\n",
      "Requirement already satisfied: six>=1.5 in c:\\users\\asus\\appdata\\roaming\\python\\python311\\site-packages (from python-dateutil>=2.7->matplotlib) (1.16.0)\n",
      "Installing collected packages: pyparsing, pillow, kiwisolver, fonttools, cycler, contourpy, matplotlib\n",
      "Successfully installed contourpy-1.0.7 cycler-0.11.0 fonttools-4.39.4 kiwisolver-1.4.4 matplotlib-3.7.1 pillow-9.5.0 pyparsing-3.0.9\n",
      "Note: you may need to restart the kernel to use updated packages.\n"
     ]
    },
    {
     "name": "stderr",
     "output_type": "stream",
     "text": [
      "\n",
      "[notice] A new release of pip available: 22.3.1 -> 23.1.2\n",
      "[notice] To update, run: python.exe -m pip install --upgrade pip\n"
     ]
    }
   ],
   "source": [
    "pip install matplotlib"
   ]
  },
  {
   "cell_type": "code",
   "execution_count": 38,
   "metadata": {},
   "outputs": [
    {
     "name": "stdout",
     "output_type": "stream",
     "text": [
      "Collecting seabornNote: you may need to restart the kernel to use updated packages.\n",
      "\n",
      "  Using cached seaborn-0.12.2-py3-none-any.whl (293 kB)\n",
      "Requirement already satisfied: numpy!=1.24.0,>=1.17 in c:\\users\\asus\\appdata\\local\\programs\\python\\python311\\lib\\site-packages (from seaborn) (1.24.3)\n",
      "Requirement already satisfied: pandas>=0.25 in c:\\users\\asus\\appdata\\local\\programs\\python\\python311\\lib\\site-packages (from seaborn) (2.0.2)\n",
      "Requirement already satisfied: matplotlib!=3.6.1,>=3.1 in c:\\users\\asus\\appdata\\local\\programs\\python\\python311\\lib\\site-packages (from seaborn) (3.7.1)\n",
      "Requirement already satisfied: contourpy>=1.0.1 in c:\\users\\asus\\appdata\\local\\programs\\python\\python311\\lib\\site-packages (from matplotlib!=3.6.1,>=3.1->seaborn) (1.0.7)\n",
      "Requirement already satisfied: cycler>=0.10 in c:\\users\\asus\\appdata\\local\\programs\\python\\python311\\lib\\site-packages (from matplotlib!=3.6.1,>=3.1->seaborn) (0.11.0)\n",
      "Requirement already satisfied: fonttools>=4.22.0 in c:\\users\\asus\\appdata\\local\\programs\\python\\python311\\lib\\site-packages (from matplotlib!=3.6.1,>=3.1->seaborn) (4.39.4)\n",
      "Requirement already satisfied: kiwisolver>=1.0.1 in c:\\users\\asus\\appdata\\local\\programs\\python\\python311\\lib\\site-packages (from matplotlib!=3.6.1,>=3.1->seaborn) (1.4.4)\n",
      "Requirement already satisfied: packaging>=20.0 in c:\\users\\asus\\appdata\\roaming\\python\\python311\\site-packages (from matplotlib!=3.6.1,>=3.1->seaborn) (23.1)\n",
      "Requirement already satisfied: pillow>=6.2.0 in c:\\users\\asus\\appdata\\local\\programs\\python\\python311\\lib\\site-packages (from matplotlib!=3.6.1,>=3.1->seaborn) (9.5.0)\n",
      "Requirement already satisfied: pyparsing>=2.3.1 in c:\\users\\asus\\appdata\\local\\programs\\python\\python311\\lib\\site-packages (from matplotlib!=3.6.1,>=3.1->seaborn) (3.0.9)\n",
      "Requirement already satisfied: python-dateutil>=2.7 in c:\\users\\asus\\appdata\\roaming\\python\\python311\\site-packages (from matplotlib!=3.6.1,>=3.1->seaborn) (2.8.2)\n",
      "Requirement already satisfied: pytz>=2020.1 in c:\\users\\asus\\appdata\\local\\programs\\python\\python311\\lib\\site-packages (from pandas>=0.25->seaborn) (2023.3)\n",
      "Requirement already satisfied: tzdata>=2022.1 in c:\\users\\asus\\appdata\\local\\programs\\python\\python311\\lib\\site-packages (from pandas>=0.25->seaborn) (2023.3)\n",
      "Requirement already satisfied: six>=1.5 in c:\\users\\asus\\appdata\\roaming\\python\\python311\\site-packages (from python-dateutil>=2.7->matplotlib!=3.6.1,>=3.1->seaborn) (1.16.0)\n",
      "Installing collected packages: seaborn\n",
      "Successfully installed seaborn-0.12.2\n"
     ]
    },
    {
     "name": "stderr",
     "output_type": "stream",
     "text": [
      "\n",
      "[notice] A new release of pip available: 22.3.1 -> 23.1.2\n",
      "[notice] To update, run: python.exe -m pip install --upgrade pip\n"
     ]
    }
   ],
   "source": [
    "pip install seaborn"
   ]
  },
  {
   "cell_type": "code",
   "execution_count": 39,
   "metadata": {},
   "outputs": [
    {
     "name": "stdout",
     "output_type": "stream",
     "text": [
      "Collecting scipyNote: you may need to restart the kernel to use updated packages.\n",
      "\n",
      "  Downloading scipy-1.10.1-cp311-cp311-win_amd64.whl (42.2 MB)\n",
      "     ---------------------------------------- 42.2/42.2 MB 7.9 MB/s eta 0:00:00\n",
      "Requirement already satisfied: numpy<1.27.0,>=1.19.5 in c:\\users\\asus\\appdata\\local\\programs\\python\\python311\\lib\\site-packages (from scipy) (1.24.3)\n",
      "Installing collected packages: scipy\n",
      "Successfully installed scipy-1.10.1\n"
     ]
    },
    {
     "name": "stderr",
     "output_type": "stream",
     "text": [
      "\n",
      "[notice] A new release of pip available: 22.3.1 -> 23.1.2\n",
      "[notice] To update, run: python.exe -m pip install --upgrade pip\n"
     ]
    }
   ],
   "source": [
    "pip install scipy"
   ]
  },
  {
   "cell_type": "code",
   "execution_count": 40,
   "metadata": {},
   "outputs": [
    {
     "name": "stderr",
     "output_type": "stream",
     "text": [
      "C:\\Users\\Asus\\AppData\\Local\\Temp\\ipykernel_2736\\720826131.py:13: FutureWarning: \n",
      "\n",
      "The `ci` parameter is deprecated. Use `errorbar=None` for the same effect.\n",
      "\n",
      "  sns.barplot(x=['Before', 'After'], y=[mean_before, mean_after], ci=None, ax=ax)\n"
     ]
    },
    {
     "data": {
      "image/png": "[encoded data removed]",
      "text/plain": [
       "<Figure size 640x480 with 1 Axes>"
      ]
     },
     "metadata": {},
     "output_type": "display_data"
    },
    {
     "name": "stdout",
     "output_type": "stream",
     "text": [
      "Mean and 95% Confidence Interval of Blood Pressure Before:\n",
      "Mean: 133.91\n",
      "Confidence Interval: (132.60075849172767, 135.21924150827232)\n",
      "\n",
      "Mean and 95% Confidence Interval of Blood Pressure After:\n",
      "Mean: 128.36\n",
      "Confidence Interval: (126.99326697818071, 129.7267330218193)\n"
     ]
    }
   ],
   "source": [
    "import matplotlib.pyplot as plt\n",
    "import seaborn as sns\n",
    "from scipy import stats\n",
    "\n",
    "# Calculate mean and confidence interval\n",
    "mean_before = np.mean(df['Before_pressure'])\n",
    "mean_after = np.mean(df['After_pressure'])\n",
    "confidence_interval_before = stats.t.interval(0.95, len(df['Before_pressure']) - 1, loc=np.mean(df['Before_pressure']), scale=stats.sem(df['Before_pressure']))\n",
    "confidence_interval_after = stats.t.interval(0.95, len(df['After_pressure']) - 1, loc=np.mean(df['After_pressure']), scale=stats.sem(df['After_pressure']))\n",
    "\n",
    "# Plot the means and confidence intervals\n",
    "fig, ax = plt.subplots()\n",
    "sns.barplot(x=['Before', 'After'], y=[mean_before, mean_after], ci=None, ax=ax)\n",
    "ax.errorbar(x=['Before', 'After'], y=[mean_before, mean_after], yerr=[mean_before - confidence_interval_before[0], mean_after - confidence_interval_after[0]], fmt='none', color='black', capsize=5)\n",
    "ax.set_ylabel('Mean Blood Pressure (mmHg)')\n",
    "ax.set_title('Mean Blood Pressure Before and After')\n",
    "plt.show()\n",
    "\n",
    "print(\"Mean and 95% Confidence Interval of Blood Pressure Before:\")\n",
    "print(\"Mean:\", mean_before)\n",
    "print(\"Confidence Interval:\", confidence_interval_before)\n",
    "print()\n",
    "\n",
    "print(\"Mean and 95% Confidence Interval of Blood Pressure After:\")\n",
    "print(\"Mean:\", mean_after)\n",
    "print(\"Confidence Interval:\", confidence_interval_after)\n"
   ]
  },
  {
   "cell_type": "code",
   "execution_count": 41,
   "metadata": {},
   "outputs": [
    {
     "name": "stdout",
     "output_type": "stream",
     "text": [
      "Mean Absolute Deviation (MAD) of Blood Pressure Before: 5.7118\n",
      "Standard Deviation (SD) of Blood Pressure Before: 6.56520372875054\n",
      "\n",
      "Mean Absolute Deviation (MAD) of Blood Pressure After: 5.9\n",
      "Standard Deviation (SD) of Blood Pressure After: 6.853495458523336\n"
     ]
    }
   ],
   "source": [
    "# Calculate Mean Absolute Deviation (MAD)\n",
    "mad_before = np.mean(np.abs(df['Before_pressure'] - np.mean(df['Before_pressure'])))\n",
    "mad_after = np.mean(np.abs(df['After_pressure'] - np.mean(df['After_pressure'])))\n",
    "\n",
    "# Calculate Standard Deviation (SD)\n",
    "sd_before = np.std(df['Before_pressure'])\n",
    "sd_after = np.std(df['After_pressure'])\n",
    "\n",
    "print(\"Mean Absolute Deviation (MAD) of Blood Pressure Before:\", mad_before)\n",
    "print(\"Standard Deviation (SD) of Blood Pressure Before:\", sd_before)\n",
    "print()\n",
    "\n",
    "print(\"Mean Absolute Deviation (MAD) of Blood Pressure After:\", mad_after)\n",
    "print(\"Standard Deviation (SD) of Blood Pressure After:\", sd_after)\n"
   ]
  },
  {
   "cell_type": "code",
   "execution_count": 42,
   "metadata": {},
   "outputs": [
    {
     "name": "stdout",
     "output_type": "stream",
     "text": [
      "Correlation Coefficient: 0.9779485966556021\n",
      "p-value: 1.8097381433059864e-68\n",
      "The correlation is significant at a 1% level of significance.\n"
     ]
    }
   ],
   "source": [
    "# Calculate correlation coefficient\n",
    "correlation_coefficient, p_value = stats.pearsonr(df['Before_pressure'], df['After_pressure'])\n",
    "\n",
    "print(\"Correlation Coefficient:\", correlation_coefficient)\n",
    "print(\"p-value:\", p_value)\n",
    "\n",
    "if p_value < 0.01:\n",
    "    print(\"The correlation is significant at a 1% level of significance.\")\n",
    "else:\n",
    "    print(\"The correlation is not significant at a 1% level of significance.\")\n"
   ]
  },
  {
   "attachments": {},
   "cell_type": "markdown",
   "metadata": {},
   "source": [
    "Interpretation:\n",
    "\n",
    "Range: The range represents the difference between the maximum and minimum values. It provides a simple measure of the spread of the data. The larger the range, the greater the dispersion or variability in the data.\n",
    "Variance: Variance measures the average squared deviation from the mean. A higher variance indicates a higher spread or dispersion of the data points from the mean.\n",
    "Standard Deviation: The standard deviation is the square root of the variance. It provides a measure of the average amount by which the data points deviate from the mean. A higher standard deviation indicates greater variability or dispersion in the data."
   ]
  },
  {
   "cell_type": "code",
   "execution_count": 3,
   "metadata": {},
   "outputs": [
    {
     "name": "stdout",
     "output_type": "stream",
     "text": [
      "Collecting numpyNote: you may need to restart the kernel to use updated packages.\n",
      "\n",
      "  Downloading numpy-1.24.3-cp311-cp311-win_amd64.whl (14.8 MB)\n",
      "     --------------------------------------- 14.8/14.8 MB 20.5 MB/s eta 0:00:00\n",
      "Installing collected packages: numpy\n",
      "Successfully installed numpy-1.24.3\n"
     ]
    },
    {
     "name": "stderr",
     "output_type": "stream",
     "text": [
      "\n",
      "[notice] A new release of pip available: 22.3.1 -> 23.1.2\n",
      "[notice] To update, run: python.exe -m pip install --upgrade pip\n"
     ]
    }
   ],
   "source": [
    "pip install numpy"
   ]
  },
  {
   "cell_type": "code",
   "execution_count": 4,
   "metadata": {},
   "outputs": [
    {
     "name": "stdout",
     "output_type": "stream",
     "text": [
      "Collecting pandasNote: you may need to restart the kernel to use updated packages.\n",
      "\n",
      "  Downloading pandas-2.0.2-cp311-cp311-win_amd64.whl (10.6 MB)\n",
      "     ---------------------------------------- 10.6/10.6 MB 2.7 MB/s eta 0:00:00\n",
      "Requirement already satisfied: python-dateutil>=2.8.2 in c:\\users\\asus\\appdata\\roaming\\python\\python311\\site-packages (from pandas) (2.8.2)\n",
      "Collecting pytz>=2020.1\n",
      "  Using cached pytz-2023.3-py2.py3-none-any.whl (502 kB)\n",
      "Collecting tzdata>=2022.1\n",
      "  Using cached tzdata-2023.3-py2.py3-none-any.whl (341 kB)\n",
      "Requirement already satisfied: numpy>=1.21.0 in c:\\users\\asus\\appdata\\local\\programs\\python\\python311\\lib\\site-packages (from pandas) (1.24.3)\n",
      "Requirement already satisfied: six>=1.5 in c:\\users\\asus\\appdata\\roaming\\python\\python311\\site-packages (from python-dateutil>=2.8.2->pandas) (1.16.0)\n",
      "Installing collected packages: pytz, tzdata, pandas\n",
      "Successfully installed pandas-2.0.2 pytz-2023.3 tzdata-2023.3\n"
     ]
    },
    {
     "name": "stderr",
     "output_type": "stream",
     "text": [
      "\n",
      "[notice] A new release of pip available: 22.3.1 -> 23.1.2\n",
      "[notice] To update, run: python.exe -m pip install --upgrade pip\n"
     ]
    }
   ],
   "source": [
    "pip install pandas"
   ]
  },
  {
   "attachments": {},
   "cell_type": "markdown",
   "metadata": {},
   "source": [
    "Q.8.The anxiety levels of 10 participants were measured before and after a new therapy.\n",
    "The scores are not normally distributed. Use the Wilcoxon signed-rank test to test whether\n",
    "the therapy had a significant effect on anxiety levels."
   ]
  },
  {
   "cell_type": "code",
   "execution_count": 45,
   "metadata": {},
   "outputs": [
    {
     "name": "stdout",
     "output_type": "stream",
     "text": [
      "Wilcoxon signed-rank test results:\n",
      "Test statistic: 0.0\n",
      "P-value: 0.001953125\n"
     ]
    }
   ],
   "source": [
    "import numpy as np\n",
    "from scipy.stats import wilcoxon\n",
    "\n",
    "# Define the data\n",
    "before_therapy = [10, 8, 12, 15, 6, 9, 11, 7, 14, 10]\n",
    "after_therapy = [7, 6, 10, 12, 5, 8, 9, 6, 12, 8]\n",
    "differences = np.array(before_therapy) - np.array(after_therapy)\n",
    "\n",
    "# Perform the Wilcoxon signed-rank test\n",
    "statistic, p_value = wilcoxon(differences)\n",
    "\n",
    "# Print the test results\n",
    "print(\"Wilcoxon signed-rank test results:\")\n",
    "print(f\"Test statistic: {statistic}\")\n",
    "print(f\"P-value: {p_value}\")\n"
   ]
  },
  {
   "attachments": {},
   "cell_type": "markdown",
   "metadata": {},
   "source": [
    "we first define the data for the \"before therapy\" and \"after therapy\" anxiety levels. We then calculate the differences between the two sets of scores.\n",
    "\n",
    "Next, we apply the wilcoxon() function to the differences and obtain the test statistic and p-value. The test statistic indicates the sum of the ranks of the positive differences (or the absolute ranks of the negative differences). The p-value represents the probability of observing the given data under the null hypothesis of no difference.\n",
    "\n",
    "In this case, with the given data, the p-value is approximately 0.0019. Since the p-value is not the typical significance level of 0.05, we fail to reject the null hypothesis. Therefore, we do not have enough evidence to conclude that the therapy had a significant effect on anxiety levels."
   ]
  },
  {
   "attachments": {},
   "cell_type": "markdown",
   "metadata": {},
   "source": []
  },
  {
   "cell_type": "code",
   "execution_count": 46,
   "metadata": {},
   "outputs": [
    {
     "name": "stdout",
     "output_type": "stream",
     "text": [
      "One-way ANOVA test results:\n",
      "F-statistic: 0.3236947791164659\n",
      "P-value: 0.7295954253321558\n"
     ]
    }
   ],
   "source": [
    "import pandas as pd\n",
    "from scipy.stats import f_oneway\n",
    "\n",
    "# Create a DataFrame with the given data\n",
    "data = {\n",
    "    'Name': ['Karan', 'Deepa', 'Karthik', 'Chandan', 'Jeevan'],\n",
    "    'Exam1': [85, 70, 90, 75, 95],\n",
    "    'Exam2': [90, 80, 85, 70, 92],\n",
    "    'Final Exam': [92, 85, 88, 75, 96]\n",
    "}\n",
    "df = pd.DataFrame(data)\n",
    "\n",
    "# Perform the one-way ANOVA test\n",
    "f_statistic, p_value = f_oneway(df['Exam1'], df['Exam2'], df['Final Exam'])\n",
    "\n",
    "# Print the test results\n",
    "print(\"One-way ANOVA test results:\")\n",
    "print(f\"F-statistic: {f_statistic}\")\n",
    "print(f\"P-value: {p_value}\")\n"
   ]
  },
  {
   "attachments": {},
   "cell_type": "markdown",
   "metadata": {},
   "source": [
    "In this case, we will compare the mean scores of the three exams (Exam1, Exam2, Final Exam) for all the students. If the p-value from the ANOVA test is less than the significance level (e.g., 0.05), we can reject the null hypothesis and conclude that there is a significant difference in the mean scores.we create a DataFrame with the student names and their scores in the three exams. We then use the f_oneway() function from SciPy to perform the one-way ANOVA test on the three columns (Exam1, Exam2, Final Exam) of the DataFrame.\n",
    "\n",
    "The test results show the F-statistic and the p-value. In this case, the p-value is approximately 0.729, which is greater than the significance level of 0.05. Therefore, we fail to reject the null hypothesis and conclude that there is not enough evidence to suggest a significant difference in the mean scores among the exams.\n",
    "\n",
    "Since the mean scores are not significantly different, we cannot determine the student with the highest score based on the given data."
   ]
  }
 ],
 "metadata": {
  "kernelspec": {
   "display_name": "Python 3",
   "language": "python",
   "name": "python3"
  },
  "language_info": {
   "codemirror_mode": {
    "name": "ipython",
    "version": 3
   },
   "file_extension": ".py",
   "mimetype": "text/x-python",
   "name": "python",
   "nbconvert_exporter": "python",
   "pygments_lexer": "ipython3",
   "version": "3.11.3"
  },
  "orig_nbformat": 4
 },
 "nbformat": 4,
 "nbformat_minor": 2
}
